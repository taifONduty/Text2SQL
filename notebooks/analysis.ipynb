{
  "cells": [
    {
      "cell_type": "markdown",
      "metadata": {},
      "source": [
        "# Text2SQL Analytics System - Analysis Notebook\n",
        "\n",
        "This notebook demonstrates the Text2SQL system capabilities and provides data analysis examples.\n"
      ]
    },
    {
      "cell_type": "code",
      "execution_count": null,
      "metadata": {},
      "outputs": [],
      "source": [
        "# Setup\n",
        "import sys\n",
        "sys.path.append('..')\n",
        "\n",
        "from src.text2sql_engine import Text2SQLEngine\n",
        "from src.database import DatabaseManager\n",
        "from src.config import settings\n",
        "import pandas as pd\n",
        "import json\n",
        "\n",
        "print(\"Text2SQL Analytics System loaded successfully!\")\n"
      ]
    }
  ],
  "metadata": {
    "language_info": {
      "name": "python"
    }
  },
  "nbformat": 4,
  "nbformat_minor": 2
}
